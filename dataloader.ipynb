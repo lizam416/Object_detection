{
 "cells": [
  {
   "cell_type": "code",
   "execution_count": 1,
   "metadata": {},
   "outputs": [],
   "source": [
    "import os\n",
    "from torchvision.io import read_image\n",
    "from torch.utils.data import Dataset\n",
    "import xml.etree.ElementTree as ET\n",
    "import matplotlib.pyplot as plt\n",
    "import torchvision.transforms as T\n",
    "import matplotlib.patches as patches"
   ]
  },
  {
   "cell_type": "code",
   "execution_count": 2,
   "metadata": {},
   "outputs": [],
   "source": [
    "class CustomVOCImageDataset(Dataset):\n",
    "    def __init__(self, annotations_dir, img_dir, transform=None, target_transform=None):\n",
    "        self.annotations_dir = annotations_dir  # Thư mục chứa các file XML\n",
    "        self.img_dir = img_dir  # Thư mục chứa các file ảnh\n",
    "        self.transform = transform  # Biến đổi ảnh (nếu có)\n",
    "        self.target_transform = target_transform  # Biến đổi nhãn (nếu có)\n",
    "        self.image_files = [f for f in os.listdir(img_dir) if f.endswith('.jpg')]  # Lấy danh sách các file .jpg\n",
    "\n",
    "    def __len__(self):\n",
    "        return len(self.image_files)\n",
    "\n",
    "    def parse_voc_xml(self, xml_file):\n",
    "        \"\"\"Hàm phân tích cú pháp file XML Pascal VOC\"\"\"\n",
    "        tree = ET.parse(xml_file)\n",
    "        root = tree.getroot()\n",
    "\n",
    "        objects = []\n",
    "        for obj in root.findall('object'):\n",
    "            obj_name = obj.find('name').text\n",
    "            bndbox = obj.find('bndbox')\n",
    "            xmin = int(bndbox.find('xmin').text)\n",
    "            ymin = int(bndbox.find('ymin').text)\n",
    "            xmax = int(bndbox.find('xmax').text)\n",
    "            ymax = int(bndbox.find('ymax').text)\n",
    "            objects.append({\n",
    "                'name': obj_name,\n",
    "                'bbox': [xmin, ymin, xmax, ymax]\n",
    "            })\n",
    "        return objects\n",
    "\n",
    "    def __getitem__(self, idx):\n",
    "        # Lấy đường dẫn tới ảnh và đọc ảnh\n",
    "        img_filename = self.image_files[idx]\n",
    "        img_path = os.path.join(self.img_dir, img_filename)\n",
    "        image = read_image(img_path)\n",
    "\n",
    "        # Lấy đường dẫn tới file XML tương ứng\n",
    "        xml_filename = img_filename.replace('.jpg', '.xml')\n",
    "        xml_path = os.path.join(self.annotations_dir, xml_filename)\n",
    "\n",
    "        # Đọc file XML để lấy nhãn và bounding box\n",
    "        labels = self.parse_voc_xml(xml_path)\n",
    "\n",
    "        # Biến đổi ảnh nếu cần\n",
    "        if self.transform:\n",
    "            image = self.transform(image)\n",
    "\n",
    "        # Biến đổi nhãn nếu cần\n",
    "        if self.target_transform:\n",
    "            labels = self.target_transform(labels)\n",
    "\n",
    "        return image, labels"
   ]
  },
  {
   "cell_type": "code",
   "execution_count": 3,
   "metadata": {},
   "outputs": [
    {
     "ename": "FileNotFoundError",
     "evalue": "[WinError 3] The system cannot find the path specified: '/mnt/data/vietnam_traffic_sign_dataset/train'",
     "output_type": "error",
     "traceback": [
      "\u001b[1;31m---------------------------------------------------------------------------\u001b[0m",
      "\u001b[1;31mFileNotFoundError\u001b[0m                         Traceback (most recent call last)",
      "Cell \u001b[1;32mIn[3], line 6\u001b[0m\n\u001b[0;32m      3\u001b[0m img_dir \u001b[38;5;241m=\u001b[39m \u001b[38;5;124m'\u001b[39m\u001b[38;5;124m/mnt/data/vietnam_traffic_sign_dataset/train\u001b[39m\u001b[38;5;124m'\u001b[39m  \u001b[38;5;66;03m# Thư mục chứa file ảnh\u001b[39;00m\n\u001b[0;32m      5\u001b[0m \u001b[38;5;66;03m# Tạo tập dữ liệu với transform cơ bản (ví dụ chuyển đổi sang tensor)\u001b[39;00m\n\u001b[1;32m----> 6\u001b[0m dataset \u001b[38;5;241m=\u001b[39m \u001b[43mCustomVOCImageDataset\u001b[49m\u001b[43m(\u001b[49m\u001b[43mannotations_dir\u001b[49m\u001b[43m,\u001b[49m\u001b[43m \u001b[49m\u001b[43mimg_dir\u001b[49m\u001b[43m,\u001b[49m\u001b[43m \u001b[49m\u001b[43mtransform\u001b[49m\u001b[38;5;241;43m=\u001b[39;49m\u001b[38;5;28;43;01mNone\u001b[39;49;00m\u001b[43m)\u001b[49m\n\u001b[0;32m      8\u001b[0m \u001b[38;5;66;03m# Hiển thị một ảnh và bounding boxes từ dataset\u001b[39;00m\n\u001b[0;32m      9\u001b[0m \u001b[38;5;28;01mdef\u001b[39;00m \u001b[38;5;21mplot_image_with_boxes\u001b[39m(image, labels):\n",
      "Cell \u001b[1;32mIn[2], line 7\u001b[0m, in \u001b[0;36mCustomVOCImageDataset.__init__\u001b[1;34m(self, annotations_dir, img_dir, transform, target_transform)\u001b[0m\n\u001b[0;32m      5\u001b[0m \u001b[38;5;28mself\u001b[39m\u001b[38;5;241m.\u001b[39mtransform \u001b[38;5;241m=\u001b[39m transform  \u001b[38;5;66;03m# Biến đổi ảnh (nếu có)\u001b[39;00m\n\u001b[0;32m      6\u001b[0m \u001b[38;5;28mself\u001b[39m\u001b[38;5;241m.\u001b[39mtarget_transform \u001b[38;5;241m=\u001b[39m target_transform  \u001b[38;5;66;03m# Biến đổi nhãn (nếu có)\u001b[39;00m\n\u001b[1;32m----> 7\u001b[0m \u001b[38;5;28mself\u001b[39m\u001b[38;5;241m.\u001b[39mimage_files \u001b[38;5;241m=\u001b[39m [f \u001b[38;5;28;01mfor\u001b[39;00m f \u001b[38;5;129;01min\u001b[39;00m \u001b[43mos\u001b[49m\u001b[38;5;241;43m.\u001b[39;49m\u001b[43mlistdir\u001b[49m\u001b[43m(\u001b[49m\u001b[43mimg_dir\u001b[49m\u001b[43m)\u001b[49m \u001b[38;5;28;01mif\u001b[39;00m f\u001b[38;5;241m.\u001b[39mendswith(\u001b[38;5;124m'\u001b[39m\u001b[38;5;124m.jpg\u001b[39m\u001b[38;5;124m'\u001b[39m)]\n",
      "\u001b[1;31mFileNotFoundError\u001b[0m: [WinError 3] The system cannot find the path specified: '/mnt/data/vietnam_traffic_sign_dataset/train'"
     ]
    }
   ],
   "source": [
    "# Khởi tạo dataset\n",
    "annotations_dir = '/mnt/data/vietnam_traffic_sign_dataset/train'  # Thư mục chứa file XML\n",
    "img_dir = '/mnt/data/vietnam_traffic_sign_dataset/train'  # Thư mục chứa file ảnh\n",
    "\n",
    "# Tạo tập dữ liệu với transform cơ bản (ví dụ chuyển đổi sang tensor)\n",
    "dataset = CustomVOCImageDataset(annotations_dir, img_dir, transform=None)\n",
    "\n",
    "# Hiển thị một ảnh và bounding boxes từ dataset\n",
    "def plot_image_with_boxes(image, labels):\n",
    "    fig, ax = plt.subplots(1)\n",
    "    ax.imshow(image.permute(1, 2, 0))  # Đổi trục từ (C, H, W) sang (H, W, C)\n",
    "\n",
    "    # Vẽ bounding box cho từng object\n",
    "    for label in labels:\n",
    "        bbox = label['bbox']\n",
    "        rect = patches.Rectangle((bbox[0], bbox[1]), bbox[2] - bbox[0], bbox[3] - bbox[1], linewidth=2, edgecolor='r', facecolor='none')\n",
    "        ax.add_patch(rect)\n",
    "        ax.text(bbox[0], bbox[1] - 5, label['name'], color='red', fontsize=12)\n",
    "\n",
    "    plt.show()\n",
    "\n",
    "# Lấy một ảnh và nhãn\n",
    "image, labels = dataset[0]\n",
    "\n",
    "# Hiển thị ảnh và bounding boxes\n",
    "plot_image_with_boxes(image, labels)"
   ]
  }
 ],
 "metadata": {
  "kernelspec": {
   "display_name": "NCKH",
   "language": "python",
   "name": "python3"
  },
  "language_info": {
   "codemirror_mode": {
    "name": "ipython",
    "version": 3
   },
   "file_extension": ".py",
   "mimetype": "text/x-python",
   "name": "python",
   "nbconvert_exporter": "python",
   "pygments_lexer": "ipython3",
   "version": "3.10.14"
  }
 },
 "nbformat": 4,
 "nbformat_minor": 2
}
